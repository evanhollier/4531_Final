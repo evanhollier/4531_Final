{
 "cells": [
  {
   "cell_type": "code",
   "execution_count": null,
   "id": "a46dc787-79af-4b86-8662-9ca7324978f4",
   "metadata": {},
   "outputs": [],
   "source": [
    "import tensorflow as tf\n",
    "import keras\n",
    "import numpy as np\n",
    "import pandas as pd\n",
    "import seaborn as sns\n",
    "import matplotlib.pyplot as plt\n",
    "import tensorflow as tf\n",
    "import keras\n",
    "from keras import layers\n",
    "from tensorflow.keras.utils import image_dataset_from_directory\n",
    "import os, shutil, pathlib\n",
    "from PIL import Image"
   ]
  },
  {
   "cell_type": "code",
   "execution_count": null,
   "id": "0a7046bb-5f36-45fb-a323-329eb39aa7ea",
   "metadata": {},
   "outputs": [],
   "source": [
    "def make_graphs(obj):\n",
    "    epochs = len(obj.history['loss'])\n",
    "    fig, axes = plt.subplots(2, 1, figsize=(10, 8)) \n",
    "    make_graphs_loss(obj, epochs, axes[0]) \n",
    "    make_graphs_accuracy(obj, epochs, axes[1])  \n",
    "    plt.tight_layout()\n",
    "\n",
    "def make_graphs_loss(obj, epochs, ax):\n",
    "    # makes graph from object and epochs\n",
    "    eps = [i for i in range(epochs)]\n",
    "    train_acc = obj.history['loss']\n",
    "    val_acc = obj.history['val_loss']\n",
    "    # Now make plot\n",
    "    sns.lineplot(x=eps[1:], y=train_acc[1:], color='b', label='Training Loss', ax=ax)\n",
    "    sns.lineplot(x=eps[1:], y=val_acc[1:], color='r', label='Validation Loss', ax=ax)\n",
    "    ax.set_xlabel('Epochs')\n",
    "    ax.set_ylabel('Loss')\n",
    "    ax.set_title('Training vs Validation')\n",
    "    ax.legend()\n",
    "\n",
    "def make_graphs_accuracy(obj, epochs, ax):\n",
    "    # makes graph from object and epochs\n",
    "    eps = [i for i in range(epochs)]\n",
    "    train_acc = obj.history['accuracy']\n",
    "    val_acc = obj.history['val_accuracy']\n",
    "    # Now make plot\n",
    "    sns.lineplot(x=eps[1:], y=train_acc[1:], color='b', label='Training Accuracy', ax=ax)\n",
    "    sns.lineplot(x=eps[1:], y=val_acc[1:], color='r', label='Validation Accuracy', ax=ax)\n",
    "    ax.set_xlabel('Epochs')\n",
    "    ax.set_ylabel('Accuracy')\n",
    "    ax.set_title('Training vs Validation')\n",
    "    ax.legend()"
   ]
  },
  {
   "cell_type": "code",
   "execution_count": null,
   "id": "e9167fb7-f097-4a3d-baee-49d688ec6c9b",
   "metadata": {},
   "outputs": [],
   "source": [
    "train_dataset = image_dataset_from_directory(\n",
    "    r'images_sorted_tvts/train',\n",
    "    image_size=(255, 255),\n",
    "    batch_size=32,\n",
    "    labels='inferred',\n",
    "    label_mode='categorical')\n",
    "\n",
    "val_data = image_dataset_from_directory(r'images_sorted_tvts/validation',\n",
    "    image_size=(255, 255),\n",
    "    batch_size=32,\n",
    "    labels='inferred',\n",
    "    label_mode='categorical')"
   ]
  },
  {
   "cell_type": "code",
   "execution_count": null,
   "id": "e3c05a3e-5613-42ae-a454-34d05b221320",
   "metadata": {},
   "outputs": [],
   "source": [
    "VGG16_base  = keras.applications.vgg16.VGG16(\n",
    "    weights=\"imagenet\",\n",
    "    include_top=False)\n",
    "VGG16_base.trainable = False\n",
    "\n",
    "inputs = keras.Input(shape=(255, 255, 3))\n",
    "x = inputs\n",
    "x = keras.applications.vgg16.preprocess_input(x)  # scale the data\n",
    "x = VGG16_base(x)\n",
    "x = layers.Flatten()(x)\n",
    "x = layers.Dense(64)(x)   # only the weights in the dense layers will be trained\n",
    "outputs = layers.Dense(37, activation=\"softmax\")(x)     # only the weights in the dense layers will be trained\n",
    "VGG16_Model = keras.Model(inputs, outputs)\n",
    "VGG16_Model.compile(loss=\"binary_crossentropy\",\n",
    "              optimizer=\"rmsprop\",\n",
    "              metrics=[\"accuracy\"])\n",
    "\n",
    "VGG16_hist = VGG16_Model.fit(train_dataset, epochs=5, validation_data= val_data)"
   ]
  },
  {
   "cell_type": "code",
   "execution_count": null,
   "id": "51f871e7-6a22-49e7-b8aa-9c9b999bfdd4",
   "metadata": {},
   "outputs": [],
   "source": [
    "make_graphs(VGG16_hist)"
   ]
  },
  {
   "cell_type": "code",
   "execution_count": null,
   "id": "4b0ba8e7-3e16-4485-a42a-bbcd9ef92add",
   "metadata": {},
   "outputs": [],
   "source": [
    "# Xception Model\n",
    "Xception_base = keras.applications.Xception(\n",
    "    weights=\"imagenet\",\n",
    "    include_top=False)\n",
    "Xception_base.trainable = False\n",
    "\n",
    "inputs = keras.Input(shape=(255, 255, 3))\n",
    "x = inputs\n",
    "x = keras.applications.xception.preprocess_input(x)\n",
    "x = Xception_base(x)\n",
    "x = layers.Flatten()(x)\n",
    "x = layers.Dense(64)(x)\n",
    "outputs = layers.Dense(37, activation=\"softmax\")(x)\n",
    "Xception_Model = keras.Model(inputs, outputs)\n",
    "Xception_Model.compile(\n",
    "    loss=\"binary_crossentropy\",\n",
    "    optimizer=\"rmsprop\",\n",
    "    metrics=[\"accuracy\"])\n",
    "\n",
    "Xception_hist = Xception_Model.fit(train_dataset, epochs=5, validation_data= val_data)"
   ]
  },
  {
   "cell_type": "code",
   "execution_count": null,
   "id": "73def29f-2fad-4949-948c-8b48b48f1159",
   "metadata": {},
   "outputs": [],
   "source": [
    "make_graphs(Xception_hist)"
   ]
  }
 ],
 "metadata": {
  "kernelspec": {
   "display_name": "Python 3 (ipykernel)",
   "language": "python",
   "name": "python3"
  },
  "language_info": {
   "codemirror_mode": {
    "name": "ipython",
    "version": 3
   },
   "file_extension": ".py",
   "mimetype": "text/x-python",
   "name": "python",
   "nbconvert_exporter": "python",
   "pygments_lexer": "ipython3",
   "version": "3.11.0rc1"
  }
 },
 "nbformat": 4,
 "nbformat_minor": 5
}
